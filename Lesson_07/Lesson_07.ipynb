{
 "cells": [
  {
   "cell_type": "markdown",
   "metadata": {},
   "source": [
    "### Задание простое -- сделать любой отчет по данным, приходящим из Flume :)\n",
    "### • Можно воспользоваться ноутбуком Jupyter по адресу http://89.208.222.53:8000/"
   ]
  },
  {
   "cell_type": "code",
   "execution_count": 44,
   "metadata": {},
   "outputs": [
    {
     "name": "stdout",
     "output_type": "stream",
     "text": [
      "Requirement already satisfied: happybase in /opt/anaconda3/lib/python3.7/site-packages (1.2.0)\n",
      "Requirement already satisfied: six in /opt/anaconda3/lib/python3.7/site-packages (from happybase) (1.12.0)\n",
      "Requirement already satisfied: thriftpy2>=0.4 in /opt/anaconda3/lib/python3.7/site-packages (from happybase) (0.4.11)\n",
      "Requirement already satisfied: ply<4.0,>=3.4 in /opt/anaconda3/lib/python3.7/site-packages (from thriftpy2>=0.4->happybase) (3.11)\n"
     ]
    }
   ],
   "source": [
    "!python3 -m pip install happybase"
   ]
  },
  {
   "cell_type": "code",
   "execution_count": 45,
   "metadata": {},
   "outputs": [],
   "source": [
    "import happybase\n",
    "import re\n",
    "import matplotlib.pyplot as plt\n",
    "%matplotlib inline"
   ]
  },
  {
   "cell_type": "markdown",
   "metadata": {},
   "source": [
    "#### Установим соединение с Hbase"
   ]
  },
  {
   "cell_type": "code",
   "execution_count": 149,
   "metadata": {},
   "outputs": [],
   "source": [
    "connection = happybase.Connection(host='89.208.221.132', port=9090, autoconnect=True)"
   ]
  },
  {
   "cell_type": "code",
   "execution_count": 150,
   "metadata": {},
   "outputs": [],
   "source": [
    "table = connection.table('Student5_4')"
   ]
  },
  {
   "cell_type": "markdown",
   "metadata": {},
   "source": [
    "#### Создадим список из времени поступления записей"
   ]
  },
  {
   "cell_type": "code",
   "execution_count": 102,
   "metadata": {},
   "outputs": [
    {
     "name": "stdout",
     "output_type": "stream",
     "text": [
      "Last message\n"
     ]
    }
   ],
   "source": [
    "time_list = []\n",
    "for row in table.scan():\n",
    "    try: time_list.append(list(row[1].values())[0].split()[2])\n",
    "    except IndexError: print(\"Last message\")  "
   ]
  },
  {
   "cell_type": "code",
   "execution_count": 158,
   "metadata": {},
   "outputs": [
    {
     "name": "stdout",
     "output_type": "stream",
     "text": [
      "[b'02:01:01', b'09:37:03', b'23:01:01', b'09:01:01', b'03:01:01', b'10:01:01', b'14:01:01', b'06:01:01', b'17:01:01', b'02:01:01', b'10:01:01', b'04:01:01', b'18:01:02', b'01:01:01', b'20:01:01', b'23:01:01', b'21:01:01', b'03:01:01', b'19:01:01', b'01:01:01', b'09:37:03', b'19:01:01', b'20:01:01', b'17:01:01', b'23:01:01', b'16:01:01', b'16:01:01', b'01:01:01', b'12:01:01', b'16:35:03', b'08:01:01', b'11:01:01', b'07:01:01', b'04:01:01', b'17:01:42', b'15:01:01', b'15:01:01', b'20:01:01', b'15:01:02', b'22:01:01', b'11:01:01', b'04:01:01', b'07:01:01', b'12:01:01', b'06:01:01', b'11:01:01', b'12:01:01', b'18:01:02', b'16:35:03', b'16:35:03', b'00:01:01', b'05:01:01', b'11:01:01', b'00:01:01', b'09:01:01', b'12:01:01', b'18:01:01', b'21:01:01', b'06:01:01', b'00:01:01', b'14:01:01', b'04:01:01', b'16:01:01', b'08:01:01', b'14:01:01', b'07:01:01', b'22:47:11', b'05:01:01', b'22:01:01', b'00:01:01', b'03:01:01', b'05:01:01', b'18:01:01', b'05:01:01', b'13:01:01', b'20:01:01', b'01:01:01', b'22:01:01', b'13:01:01', b'15:01:02', b'20:01:01', b'21:01:24', b'01:01:01', b'07:01:01', b'16:01:01', b'08:01:01', b'09:01:01', b'23:01:01', b'09:01:01', b'18:01:01', b'02:01:01', b'13:01:01', b'16:35:03', b'06:28:18', b'21:01:01', b'10:43:41', b'19:01:01', b'14:01:01', b'17:01:01', b'15:01:01', b'09:01:01', b'07:01:01', b'09:37:04', b'08:01:01', b'13:01:01', b'06:01:01', b'14:01:01', b'14:01:01', b'10:01:01', b'18:01:01', b'05:01:01', b'09:37:06', b'13:01:01', b'01:01:01', b'07:01:01', b'19:01:01', b'10:01:01', b'15:01:01', b'17:01:42', b'16:35:03', b'11:01:01', b'13:01:01', b'12:01:01', b'17:01:42', b'10:01:01', b'21:01:01', b'17:01:01', b'21:01:01', b'16:01:02', b'11:01:01', b'02:01:01', b'06:01:01', b'23:01:01', b'04:01:01', b'03:01:01', b'17:01:01', b'02:01:01', b'22:01:01', b'21:01:01', b'05:01:01', b'20:01:01', b'09:37:05', b'04:01:01', b'12:01:01', b'02:01:01', b'03:01:01', b'09:37:04', b'06:01:01', b'23:01:01', b'10:01:01', b'03:01:01', b'14:01:01', b'00:01:01', b'16:01:02', b'08:01:01', b'22:01:01', b'19:01:01', b'17:01:01', b'00:01:01', b'08:01:01', b'09:01:01', b'22:01:01', b'19:01:01']\n"
     ]
    }
   ],
   "source": [
    "print(time_list)"
   ]
  },
  {
   "cell_type": "code",
   "execution_count": 117,
   "metadata": {},
   "outputs": [],
   "source": [
    "from matplotlib import dates\n",
    "import datetime as dt"
   ]
  },
  {
   "cell_type": "code",
   "execution_count": 111,
   "metadata": {},
   "outputs": [],
   "source": [
    "time_interval = [dt.datetime.strptime(i.decode(\"utf-8\"), \"%H:%M:%S\") for i in time_list]"
   ]
  },
  {
   "cell_type": "markdown",
   "metadata": {},
   "source": [
    "#### Изобразим график распределения сообщений по времени поступления"
   ]
  },
  {
   "cell_type": "code",
   "execution_count": 145,
   "metadata": {},
   "outputs": [
    {
     "data": {
      "image/png": "[encoded data removed]",
      "text/plain": [
       "<Figure size 1152x288 with 1 Axes>"
      ]
     },
     "metadata": {
      "needs_background": "light"
     },
     "output_type": "display_data"
    }
   ],
   "source": [
    "from pylab import rcParams\n",
    "plt.hist(time_interval)\n",
    "rcParams[\"figure.figsize\"] = 16, 4\n",
    "plt.grid()\n",
    "plt.show()"
   ]
  },
  {
   "cell_type": "code",
   "execution_count": null,
   "metadata": {},
   "outputs": [],
   "source": []
  }
 ],
 "metadata": {
  "kernelspec": {
   "display_name": "Python 3",
   "language": "python",
   "name": "python3"
  },
  "language_info": {
   "codemirror_mode": {
    "name": "ipython",
    "version": 3
   },
   "file_extension": ".py",
   "mimetype": "text/x-python",
   "name": "python",
   "nbconvert_exporter": "python",
   "pygments_lexer": "ipython3",
   "version": "3.7.4"
  }
 },
 "nbformat": 4,
 "nbformat_minor": 2
}
